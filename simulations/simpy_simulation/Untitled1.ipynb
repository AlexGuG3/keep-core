{
 "cells": [
  {
   "cell_type": "markdown",
   "metadata": {},
   "source": [
    "How do our existing token allocations look?\n",
    "What does success look like for the mining event?\n",
    "    \n",
    "    Respones: run group sim with existing distribution. What if analysis for mining event?\n",
    "\n",
    "What is the effect of node failure? - more important\n",
    "What happens if the people withdraw?\n",
    "\n",
    "Distributed key generatation\n",
    "someone deliberately misbehaves\n",
    "we can detect if a node becomes inactive\n",
    "group size can be reduced by the end of dkg"
   ]
  },
  {
   "cell_type": "code",
   "execution_count": null,
   "metadata": {},
   "outputs": [],
   "source": []
  }
 ],
 "metadata": {
  "kernelspec": {
   "display_name": "Python 3",
   "language": "python",
   "name": "python3"
  },
  "language_info": {
   "codemirror_mode": {
    "name": "ipython",
    "version": 3
   },
   "file_extension": ".py",
   "mimetype": "text/x-python",
   "name": "python",
   "nbconvert_exporter": "python",
   "pygments_lexer": "ipython3",
   "version": "3.7.1"
  }
 },
 "nbformat": 4,
 "nbformat_minor": 2
}
