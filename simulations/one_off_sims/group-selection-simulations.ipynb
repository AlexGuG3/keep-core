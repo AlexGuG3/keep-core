{
 "cells": [
  {
   "cell_type": "markdown",
   "metadata": {},
   "source": [
    "**Study Objectives**\n",
    "\n",
    "The study seeks to answer the following questions:\n",
    "1. What is the impact of the shape of the token distribution on the shape of the final group ticket distribution?\n",
    "2. What is the Likelihood of a >51% group ownership?\n",
    "3. Is the SHA256# truly uniformly distributed (Promethea - \"if this is not true then we can make a lot of money\" :))\n",
    "\n",
    "We attempt to answer these questions in the following ways:\n",
    "* We use a uniformly distributed set of ticket random numbers (assuming the SHA256 is uniformly distributed) and assign ownership based on several different ticket distributions, and then select a subset of minimum value into a \"group\"\n",
    "* We assume that if the shape of the ticket distribution in the group over several runs is similar to the distribution of ticket ownership it proves that the ticket ownership distribution has an impact on the final group\n",
    "* We guage the extent of the impact by determining the maximum percentage ownership of a group with respect to the maximum ticket ownership\n",
    "* We estimate the likelihood of >51% ownership by counting the number of times such a level is achieved in multiple runs.\n",
    "\n",
    "What-If analysis for the following Token distributions:\n",
    "* Linear - max 2%\n",
    "* Stepped - max 10%, 25%, 40%"
   ]
  },
  {
   "cell_type": "markdown",
   "metadata": {},
   "source": [
    "**Ticket Generation and Threshold selection**\n",
    "We use numpy's random function to generate a uniform distribution of tickets. We then iteratively determine the min threshold required for the specified group size. "
   ]
  },
  {
   "cell_type": "code",
   "execution_count": 4,
   "metadata": {},
   "outputs": [],
   "source": [
    "import numpy as np\n",
    "import matplotlib.pyplot as plt\n",
    "import copy\n",
    "import numpy as np\n",
    "import matplotlib.pyplot as plt"
   ]
  },
  {
   "cell_type": "code",
   "execution_count": 5,
   "metadata": {},
   "outputs": [],
   "source": [
    "# Function used to find the index values of tickets in a group\n",
    "def min_index(ticket_array, group_size):\n",
    "    array = copy.deepcopy(ticket_array)\n",
    "    group = sorted(array)[0:group_size] # generates a sorted list of min values of length = group size\n",
    "    #print(group)\n",
    "    indexes = [] #initializes the array of indexes for min ticket values\n",
    "    \n",
    "    for ticket in group: # iterates through each ticket value in the sorted list\n",
    "        \n",
    "        ticket_index = np.where(array==(ticket)) #finds the index with the ticket value\n",
    "        #print(\"ticket_index = \" + str(ticket_index))\n",
    "        indexes.append(ticket_index[0][0]) # adds the index value to the array of indexes\n",
    "        #print(\"indexes = \" + str(indexes))\n",
    "        array[ticket_index[0][0]] = 1 #sets the vaue at that index to the max value of 1 to address the problem of repeatd values\n",
    "        \n",
    "    #print(ticket_array_temp)\n",
    "    return sorted(indexes)\n"
   ]
  },
  {
   "cell_type": "code",
   "execution_count": 6,
   "metadata": {},
   "outputs": [],
   "source": [
    "# Global Variables\n",
    "group_size = 100 # Group size\n",
    "runs = 1000 # number of runs/cycles\n",
    "total_tickets = 50000 # total virtual stakers\n",
    "nodes = 100 # number of nodes\n",
    "tickets = [] # initializing the array that will contain the tickets\n",
    "group_members = [] # initializing the array that will contain indexes(node #) of tickets for each group\n",
    "\n"
   ]
  },
  {
   "cell_type": "code",
   "execution_count": 7,
   "metadata": {},
   "outputs": [],
   "source": [
    "# Pre-processing ticket arrays & group members for each run to reduce sim time\n",
    "for i in range(0, runs):\n",
    "    tickets.append(np.random.random_sample(int(total_tickets)))"
   ]
  },
  {
   "cell_type": "code",
   "execution_count": 8,
   "metadata": {},
   "outputs": [],
   "source": [
    "# Pre-processing groups\n",
    "for i in range(0, runs):\n",
    "    group_members.append(min_index(tickets[i],group_size)) # finds the index of group members with min ticket values\n",
    "\n"
   ]
  },
  {
   "cell_type": "code",
   "execution_count": 14,
   "metadata": {},
   "outputs": [
    {
     "name": "stdout",
     "output_type": "stream",
     "text": [
      "50000.0\n"
     ]
    },
    {
     "data": {
      "image/png": "[encoded data removed]",
      "text/plain": [
       "<Figure size 432x288 with 1 Axes>"
      ]
     },
     "metadata": {
      "needs_background": "light"
     },
     "output_type": "display_data"
    }
   ],
   "source": [
    "# Pre-processing distributions for total tickets = 50000\n",
    "# Linear y = m * (x + 1) since indices start from 0\n",
    "L02 = np.zeros(nodes) \n",
    "\n",
    "for i in range (0,nodes):\n",
    "    L02[i] =  10 * (i + 1) # m = 50 gives max y as 1000 which is 2% of 50000\n",
    "\n",
    "x = np.linspace(1,nodes,nodes)\n",
    "plt.subplot(3, 1, 1)\n",
    "plt.bar(x, L02)\n",
    "\n",
    "print(sum(L02-5))"
   ]
  },
  {
   "cell_type": "code",
   "execution_count": 15,
   "metadata": {},
   "outputs": [
    {
     "data": {
      "text/plain": [
       "<BarContainer object of 100 artists>"
      ]
     },
     "execution_count": 15,
     "metadata": {},
     "output_type": "execute_result"
    },
    {
     "data": {
      "image/png": "[encoded data removed]",
      "text/plain": [
       "<Figure size 432x288 with 3 Axes>"
      ]
     },
     "metadata": {
      "needs_background": "light"
     },
     "output_type": "display_data"
    }
   ],
   "source": [
    "# Pre-processing distributions for total tickets = 50000\n",
    "# Step \n",
    "S10 = np.empty(nodes)\n",
    "S10.fill(round(45000/(nodes-1)))\n",
    "S10[nodes-1] = 5000\n",
    "plt.subplot(3, 1, 1)\n",
    "plt.bar(x, S10)\n",
    "\n",
    "S25 = np.empty(nodes)\n",
    "S25.fill(round(40000/(nodes-1)))\n",
    "S25[nodes-1] = 10000\n",
    "plt.subplot(3, 1, 2)\n",
    "plt.bar(x, S25)\n",
    "\n",
    "S40 = np.empty(nodes)\n",
    "S40.fill(round(30000/(nodes-1)))\n",
    "S40[nodes-1] = 20000\n",
    "plt.subplot(3, 1, 3)\n",
    "plt.bar(x, S40)"
   ]
  },
  {
   "cell_type": "code",
   "execution_count": 17,
   "metadata": {},
   "outputs": [],
   "source": [
    "# Create CDF's - used to determine max ownership ticket index\n",
    "\n",
    "def create_cdf(nodes,ticket_distr):\n",
    "    cdf = np.zeros(nodes)\n",
    "    for node,ticketmax in enumerate(ticket_distr):\n",
    "        cdf[node]=sum(ticket_distr[0:node+1])\n",
    "    return cdf\n",
    "\n",
    "cdf_L02 = create_cdf(nodes,L02)\n",
    "cdf_S10 = create_cdf(nodes,S10)\n",
    "cdf_S25 = create_cdf(nodes,S25)\n",
    "cdf_S40 = create_cdf(nodes,S40)\n",
    "\n",
    "#print(cdf_L02)\n",
    "#print(cdf_S10)\n",
    "#print(cdf_S25)\n",
    "#print(cdf_S40)\n"
   ]
  },
  {
   "cell_type": "code",
   "execution_count": 18,
   "metadata": {},
   "outputs": [
    {
     "name": "stdout",
     "output_type": "stream",
     "text": [
      "Linear 2% max, Max ownership = 0.1\n",
      "Linear 2% max, Max # 51% ownership = 0.0\n",
      "Step 10% max, Max ownership = 0.21\n",
      "Step 10% max, Max # 51% ownership = 0.0\n",
      "Step 25% max, Max ownership = 0.33\n",
      "Step 25% max, Max # 51% ownership = 0.0\n",
      "Step 40% max, Max ownership = 0.55\n",
      "Step 40% max, Max # 51% ownership = 0.015\n"
     ]
    },
    {
     "data": {
      "image/png": "[encoded data removed]",
      "text/plain": [
       "<Figure size 432x288 with 4 Axes>"
      ]
     },
     "metadata": {
      "needs_background": "light"
     },
     "output_type": "display_data"
    }
   ],
   "source": [
    "\n",
    "# function to calculate group ownership distribution\n",
    "def group_distr(runs, nodes, group_members, cdf):\n",
    "    total_group_distr = np.zeros(nodes)\n",
    "    max_owned = np.zeros(runs)\n",
    "    for i in range(0,runs):\n",
    "        group_distr = np.zeros(nodes)\n",
    "        group_distr[0] = sum(group_members[i]<cdf[0])\n",
    "        for j in range(1,nodes):\n",
    "            group_distr[j] = sum(group_members[i]<cdf[j])-sum(group_members[i]<cdf[j-1])\n",
    "        max_owned[i] = max(group_distr)/sum(group_distr)\n",
    "        total_group_distr +=group_distr\n",
    "    return total_group_distr, max_owned, group_distr\n",
    "\n",
    "# calculate group ownership distributions for n runs\n",
    "# Linear\n",
    "distr_L02, max_owned_L02, vect_L02 = group_distr(runs, nodes, group_members, cdf_L02)\n",
    "plt.subplot(4, 1, 1) \n",
    "plt.bar(x, distr_L02)\n",
    "\n",
    "distr_S10, max_owned_S10, vect_S10 = group_distr(runs, nodes, group_members, cdf_S10)\n",
    "plt.subplot(4, 1, 2) \n",
    "plt.bar(x, distr_S10)\n",
    "\n",
    "distr_S25, max_owned_S25, vect_S25 = group_distr(runs, nodes, group_members, cdf_S25)\n",
    "plt.subplot(4, 1, 3) \n",
    "plt.bar(x, distr_S25)\n",
    "\n",
    "distr_S40, max_owned_S40, vect_S40 = group_distr(runs, nodes, group_members, cdf_S40)\n",
    "plt.subplot(4, 1, 4) \n",
    "plt.bar(x, distr_S40)\n",
    "\n",
    "print(\"Linear 2% max, Max ownership = \"+ str(max(max_owned_L02)))\n",
    "print(\"Linear 2% max, Max # 51% ownership = \"+ str(sum(max_owned_L02>0.5)/runs))\n",
    "print(\"Step 10% max, Max ownership = \"+ str(max(max_owned_S10)))\n",
    "print(\"Step 10% max, Max # 51% ownership = \"+ str(sum(max_owned_S10>0.5)/runs))\n",
    "print(\"Step 25% max, Max ownership = \"+ str(max(max_owned_S25)))\n",
    "print(\"Step 25% max, Max # 51% ownership = \"+ str(sum(max_owned_S25>0.5)/runs))\n",
    "print(\"Step 40% max, Max ownership = \"+ str(max(max_owned_S40)))\n",
    "print(\"Step 40% max, Max # 51% ownership = \"+ str(sum(max_owned_S40>0.5)/runs))\n",
    "\n"
   ]
  },
  {
   "cell_type": "markdown",
   "metadata": {},
   "source": [
    "**Testing**"
   ]
  },
  {
   "cell_type": "code",
   "execution_count": 55,
   "metadata": {},
   "outputs": [
    {
     "name": "stdout",
     "output_type": "stream",
     "text": [
      "50000\n"
     ]
    }
   ],
   "source": [
    "# Value Checks"
   ]
  },
  {
   "cell_type": "code",
   "execution_count": 156,
   "metadata": {
    "scrolled": false
   },
   "outputs": [
    {
     "name": "stdout",
     "output_type": "stream",
     "text": [
      "[0.06343352 0.9429842  0.74289453 0.46358071 0.13515092 0.80616356\n",
      " 0.32077941 0.53155799 0.67517553 0.87720912 0.06343352 0.06343352\n",
      " 0.06343352]\n",
      "[0.06343352347826425, 0.06343352347826425, 0.06343352347826425, 0.06343352347826425]\n",
      "ticket_index = (array([ 0, 10, 11, 12]),)\n",
      "indexes = [0]\n",
      "ticket_index = (array([10, 11, 12]),)\n",
      "indexes = [0, 10]\n",
      "ticket_index = (array([11, 12]),)\n",
      "indexes = [0, 10, 11]\n",
      "ticket_index = (array([12]),)\n",
      "indexes = [0, 10, 11, 12]\n",
      "[1.         0.9429842  0.74289453 0.46358071 0.13515092 0.80616356\n",
      " 0.32077941 0.53155799 0.67517553 0.87720912 1.         1.\n",
      " 1.        ]\n",
      "[0, 10, 11, 12]\n"
     ]
    }
   ],
   "source": [
    "# testing the min index function\n",
    "a = np.random.random_sample(10)\n",
    "c = a\n",
    "a = np.append(a,np.min(a))\n",
    "a = np.append(a,np.min(a))\n",
    "a = np.append(np.min(a),a)\n",
    "print(a)\n",
    "b = min_index(a, 4)\n",
    "print(b)\n"
   ]
  },
  {
   "cell_type": "code",
   "execution_count": 31,
   "metadata": {},
   "outputs": [
    {
     "name": "stdout",
     "output_type": "stream",
     "text": [
      "[0.35159272 0.76207269 0.75798182 0.60031978 0.64440427 0.26717531\n",
      " 0.82531014 0.03046798 0.11825377 0.26868173 0.74413926 0.19232398\n",
      " 0.29635666 0.87383097 0.13044544 0.3394168  0.86215274 0.66847409\n",
      " 0.2679212  0.95484219]\n",
      "[0.35159272 0.76207269 0.75798182 0.60031978 0.64440427 0.26717531\n",
      " 0.82531014 0.03046798 0.11825377 0.26868173 0.74413926 0.19232398\n",
      " 0.29635666 0.87383097 0.13044544 0.3394168  0.86215274 0.66847409\n",
      " 0.2679212  0.95484219]\n",
      "0.030467981228564978\n",
      "0.26717531377727566\n",
      "5\n"
     ]
    }
   ],
   "source": [
    "# testing the min index function\n",
    "a = np.random.random_sample(20)\n",
    "print(a)\n",
    "b = min_index(a, 5)\n",
    "print(a)\n",
    "print(a[b[0]])\n",
    "print(a[b[-1]])\n",
    "print(sum(a<=a[b[-1]]))"
   ]
  },
  {
   "cell_type": "code",
   "execution_count": null,
   "metadata": {},
   "outputs": [],
   "source": []
  }
 ],
 "metadata": {
  "kernelspec": {
   "display_name": "Python 3",
   "language": "python",
   "name": "python3"
  },
  "language_info": {
   "codemirror_mode": {
    "name": "ipython",
    "version": 3
   },
   "file_extension": ".py",
   "mimetype": "text/x-python",
   "name": "python",
   "nbconvert_exporter": "python",
   "pygments_lexer": "ipython3",
   "version": "3.7.1"
  }
 },
 "nbformat": 4,
 "nbformat_minor": 2
}
