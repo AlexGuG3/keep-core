{
 "cells": [
  {
   "cell_type": "markdown",
   "metadata": {},
   "source": [
    "**Master Simulation**\n",
    "\n",
    "Simulation of node states with pre processed distributions for group selection and uptime failures"
   ]
  },
  {
   "cell_type": "code",
   "execution_count": 1,
   "metadata": {},
   "outputs": [],
   "source": [
    "import random\n",
    "import simpy\n",
    "import datetime\n",
    "import numpy as np\n",
    "import pandas as pd\n",
    "import simulation_components as sc\n",
    "import matplotlib.pyplot as plt"
   ]
  },
  {
   "cell_type": "markdown",
   "metadata": {},
   "source": [
    "**Initialize Variables**"
   ]
  },
  {
   "cell_type": "code",
   "execution_count": 2,
   "metadata": {},
   "outputs": [],
   "source": [
    "group_size = 5 # Group size\n",
    "runs = 5 # number of runs/cycles\n",
    "total_tickets = 50000 # total virtual stakers\n",
    "nodes = 5 # number of nodes\n",
    "tickets = [] # initializing the array that will contain the tickets\n",
    "group_members = [] # initializing the array that will contain indexes(node #) of tickets for each group\n",
    "sim_cycles = 5 # maximum node cycles"
   ]
  },
  {
   "cell_type": "markdown",
   "metadata": {},
   "source": [
    "**Simulation Inputs**"
   ]
  },
  {
   "cell_type": "code",
   "execution_count": 3,
   "metadata": {
    "scrolled": true
   },
   "outputs": [
    {
     "data": {
      "text/plain": [
       "Text(0.5, 1.0, 'Virtual Staker Cumulative Distribution')"
      ]
     },
     "execution_count": 3,
     "metadata": {},
     "output_type": "execute_result"
    },
    {
     "data": {
      "image/png": "[encoded data removed]",
      "text/plain": [
       "<Figure size 432x288 with 2 Axes>"
      ]
     },
     "metadata": {
      "needs_background": "light"
     },
     "output_type": "display_data"
    }
   ],
   "source": [
    "# Pre-processing Staker distributions\n",
    "# Linear y = m * (x + 1) since indices start from 0\n",
    "L02 = np.zeros(nodes) \n",
    "\n",
    "for i in range (0,nodes):\n",
    "    L02[i] =  10 * (i + 1) # m = 50 gives max y as 1000 which is 2% of 50000\n",
    "\n",
    "x = np.linspace(1,nodes,nodes)\n",
    "plt.subplot(2, 1, 1)\n",
    "plt.bar(x, L02)\n",
    "plt.title(\"Virtual Staker Distribution\")\n",
    "\n",
    "cdf_L02=sc.create_cdf(nodes,L02)\n",
    "plt.subplot(2, 1, 2)\n",
    "plt.bar(x, cdf_L02)\n",
    "plt.title(\"Virtual Staker Cumulative Distribution\")"
   ]
  },
  {
   "cell_type": "markdown",
   "metadata": {},
   "source": [
    "**Pre-processed tickets and groups**"
   ]
  },
  {
   "cell_type": "code",
   "execution_count": 4,
   "metadata": {},
   "outputs": [],
   "source": [
    "tickets = sc.preprocess_tickets(runs, total_tickets) # generates a size(total tickets x runs) matrix of tickets by sampling the uniform distribution\n",
    "group_members = sc.preprocess_groups(tickets, runs, group_size) # generates a size (nodes x runs) matrix of group members\n"
   ]
  },
  {
   "cell_type": "code",
   "execution_count": 5,
   "metadata": {},
   "outputs": [
    {
     "name": "stderr",
     "output_type": "stream",
     "text": [
      "/Library/Frameworks/Python.framework/Versions/3.7/lib/python3.7/site-packages/ipykernel_launcher.py:12: RuntimeWarning: invalid value encountered in double_scalars\n",
      "  if sys.path[0] == '':\n"
     ]
    }
   ],
   "source": [
    "def group_distr(runs, nodes, group_members, cdf):\n",
    "# function to calculate group ownership distribution\n",
    "# need to add to sim components\n",
    "    total_group_distr = np.zeros(nodes)\n",
    "    max_owned = np.zeros(runs)\n",
    "    group_distr_matrix = np.zeros((runs,nodes))\n",
    "    for i in range(runs):\n",
    "        group_distr = np.zeros(nodes)\n",
    "        group_distr[1] = sum(group_members[i]<cdf[0])\n",
    "        for j in range(1,nodes):\n",
    "            group_distr[j] = sum(group_members[i]<cdf[j])-sum(group_members[i]<cdf[j-1])\n",
    "        max_owned[i] = max(group_distr)/sum(group_distr)\n",
    "        total_group_distr +=group_distr\n",
    "        group_distr_matrix[i] = group_distr #saves the group ticket distribution for each run\n",
    "    return total_group_distr, max_owned, group_distr_matrix\n",
    "\n",
    "total_group_distr, max_owned, group_distr_matrix = group_distr(runs, nodes, group_members, cdf_L02)"
   ]
  },
  {
   "cell_type": "markdown",
   "metadata": {},
   "source": [
    "**Pre-processed node failure modes**"
   ]
  },
  {
   "cell_type": "code",
   "execution_count": 6,
   "metadata": {},
   "outputs": [],
   "source": [
    "failed_nodes = sc.node_failure_modes(nodes, runs)"
   ]
  },
  {
   "cell_type": "code",
   "execution_count": 7,
   "metadata": {
    "scrolled": true
   },
   "outputs": [
    {
     "name": "stdout",
     "output_type": "stream",
     "text": [
      "[[False False False  True False]\n",
      " [False False False False False]\n",
      " [False False False  True False]\n",
      " [False False False False False]\n",
      " [False False False False False]]\n"
     ]
    }
   ],
   "source": [
    "print(failed_nodes)"
   ]
  },
  {
   "cell_type": "markdown",
   "metadata": {},
   "source": [
    "**Create Nodes and Start Simulation Environment**"
   ]
  },
  {
   "cell_type": "code",
   "execution_count": 8,
   "metadata": {
    "scrolled": true
   },
   "outputs": [
    {
     "name": "stdout",
     "output_type": "stream",
     "text": [
      "creating nodes\n",
      "creating groups\n",
      "Node 0 ethereum connection Failurecycle=0\n",
      "run # = 1\n",
      "run # = 2\n",
      "run # = 3\n",
      "run # = 4\n",
      "run # = 5\n"
     ]
    },
    {
     "data": {
      "text/html": [
       "<div>\n",
       "<style scoped>\n",
       "    .dataframe tbody tr th:only-of-type {\n",
       "        vertical-align: middle;\n",
       "    }\n",
       "\n",
       "    .dataframe tbody tr th {\n",
       "        vertical-align: top;\n",
       "    }\n",
       "\n",
       "    .dataframe thead th {\n",
       "        text-align: right;\n",
       "    }\n",
       "</style>\n",
       "<table border=\"1\" class=\"dataframe\">\n",
       "  <thead>\n",
       "    <tr style=\"text-align: right;\">\n",
       "      <th></th>\n",
       "      <th>id</th>\n",
       "      <th>number_of_entries_generated</th>\n",
       "      <th>relay_request_time</th>\n",
       "      <th>relay_entry_watch_time</th>\n",
       "      <th>Total groups joined</th>\n",
       "    </tr>\n",
       "  </thead>\n",
       "  <tbody>\n",
       "    <tr>\n",
       "      <th>0</th>\n",
       "      <td>Node 0</td>\n",
       "      <td>0</td>\n",
       "      <td>0</td>\n",
       "      <td>0</td>\n",
       "      <td>0</td>\n",
       "    </tr>\n",
       "  </tbody>\n",
       "</table>\n",
       "</div>"
      ],
      "text/plain": [
       "       id  number_of_entries_generated  relay_request_time  \\\n",
       "0  Node 0                            0                   0   \n",
       "\n",
       "   relay_entry_watch_time  Total groups joined  \n",
       "0                       0                    0  "
      ]
     },
     "execution_count": 8,
     "metadata": {},
     "output_type": "execute_result"
    }
   ],
   "source": [
    "env = simpy.Environment()\n",
    "print(\"creating nodes\")\n",
    "\n",
    "node_array = [sc.Node(env, 'Node %d' % i, datetime.datetime.now(), tickets)\n",
    "            for i in range(1)]\n",
    "\n",
    "print(\"creating groups\")\n",
    "group_array = [sc.Group(env, i, group_size, group_distr_matrix)\n",
    "            for i in range(5)]\n",
    "\n",
    "proc = env.process(sc.relay_entry(env, 5, group_array, node_array))\n",
    "\n",
    "env.run(until=proc)\n",
    "\n",
    "df = []\n",
    "for n in node_array:\n",
    "    df.append([n.id, n.number_of_entries_generated\n",
    "               , n.relay_request_time\n",
    "               , n.relay_entry_watch_time\n",
    "               , sum(n.groups_joined)])\n",
    "    \n",
    "df = pd.DataFrame(df)\n",
    "df.columns=[\"id\", \"number_of_entries_generated\", \"relay_request_time\", \"relay_entry_watch_time\", \"Total groups joined\"]\n",
    "df"
   ]
  },
  {
   "cell_type": "markdown",
   "metadata": {},
   "source": [
    "**Simulation Results**"
   ]
  },
  {
   "cell_type": "code",
   "execution_count": null,
   "metadata": {},
   "outputs": [],
   "source": []
  },
  {
   "cell_type": "code",
   "execution_count": null,
   "metadata": {},
   "outputs": [],
   "source": []
  },
  {
   "cell_type": "code",
   "execution_count": null,
   "metadata": {},
   "outputs": [],
   "source": []
  }
 ],
 "metadata": {
  "kernelspec": {
   "display_name": "Python 3",
   "language": "python",
   "name": "python3"
  },
  "language_info": {
   "codemirror_mode": {
    "name": "ipython",
    "version": 3
   },
   "file_extension": ".py",
   "mimetype": "text/x-python",
   "name": "python",
   "nbconvert_exporter": "python",
   "pygments_lexer": "ipython3",
   "version": "3.7.1"
  }
 },
 "nbformat": 4,
 "nbformat_minor": 2
}
