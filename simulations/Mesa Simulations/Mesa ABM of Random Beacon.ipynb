{
 "cells": [
  {
   "cell_type": "markdown",
   "metadata": {},
   "source": [
    "# Mesa ABM of the Keep Threshold Relay"
   ]
  },
  {
   "cell_type": "markdown",
   "metadata": {},
   "source": [
    "### Simulation notes and instructions"
   ]
  },
  {
   "cell_type": "markdown",
   "metadata": {},
   "source": [
    "Notes:\n",
    "* Nodes are created simulataneously using the Mesa SimultaneousActivation scheduler\n",
    "* The nodes go through a bootstrap phase based on Antonio's diagram. They can only form groups if they are in the mainloop forked state.\n",
    "* Relay requests are currently bernoulli trials\n",
    "* Singature events are modeled by default as asynchronous with a step delay to mimick the block delay\n",
    "\n",
    "Instructions:\n",
    "1. Change variables\n",
    "2. Click on the restart and run kernel icon for ipython\n",
    "\n",
    "    "
   ]
  },
  {
   "cell_type": "code",
   "execution_count": null,
   "metadata": {},
   "outputs": [],
   "source": [
    "import random\n",
    "import simpy\n",
    "import datetime\n",
    "import numpy as np\n",
    "import pandas as pd\n",
    "import agent\n",
    "import model\n",
    "import matplotlib.pyplot as plt\n",
    "import simulation_functions as sc"
   ]
  },
  {
   "cell_type": "markdown",
   "metadata": {},
   "source": [
    "**Initialize Variables**"
   ]
  },
  {
   "cell_type": "code",
   "execution_count": null,
   "metadata": {},
   "outputs": [],
   "source": [
    "group_size = 5 # Group size\n",
    "#total_tickets = 500 # total virtual stakers\n",
    "nodes = 5 # number of nodes\n",
    "active_group_threshold = 4 # min number of active groups to pick from\n",
    "signature_threshold = 4  # min number of nodes needed to sign\n",
    "signature_delay = 2 # lambda for poisson distribution used to generate a delay before the signature is executed\n",
    "group_expiry = 10 #number of steps after which a group expires\n",
    "group_formation_threshold = 3 # min number of nodes needed to create a group\n",
    "node_failure_percent = 50 # % of times nodes fail and have to reconnect\n",
    "node_death_percent = 5 # % of time nodes fail and do not reconnect\n"
   ]
  },
  {
   "cell_type": "code",
   "execution_count": null,
   "metadata": {},
   "outputs": [],
   "source": [
    "# Pre-processing Staker distributions\n",
    "# Linear y = m * (x + 1) since indices start from 0\n",
    "ticket_distribution = np.zeros(nodes) \n",
    "\n",
    "for i in range (0, nodes):\n",
    "    ticket_distribution[i] =  10 * (i + 1) # m = 50 gives max y as 1000 which is 2% of 50000\n",
    "\n",
    "x = np.linspace(1,nodes,nodes)\n",
    "plt.subplot(2, 1, 1)\n",
    "plt.bar(x, ticket_distribution)\n",
    "plt.title(\"Virtual Staker Distribution\")\n",
    "\n",
    "cdf_L02=sc.create_cdf(nodes,ticket_distribution)\n",
    "plt.subplot(2, 1, 2)\n",
    "plt.bar(x, cdf_L02)\n",
    "plt.title(\"Virtual Staker Cumulative Distribution\")"
   ]
  },
  {
   "cell_type": "code",
   "execution_count": null,
   "metadata": {
    "scrolled": true
   },
   "outputs": [],
   "source": [
    "beacon_model = model.Beacon_Model(nodes, ticket_distribution, \n",
    "                                  active_group_threshold, \n",
    "                                  group_size, \n",
    "                                  signature_threshold, \n",
    "                                  group_expiry, \n",
    "                                  group_formation_threshold, \n",
    "                                  node_failure_percent, \n",
    "                                  node_death_percent, \n",
    "                                  signature_delay\n",
    "                                 )"
   ]
  },
  {
   "cell_type": "code",
   "execution_count": null,
   "metadata": {},
   "outputs": [],
   "source": [
    "active_group_size = []\n",
    "signature_failures = []\n",
    "for i in range (200):\n",
    "    beacon_model.step()\n",
    "    active_group_size.append(len(beacon_model.active_groups))\n",
    "    print(\"signature failure events\")\n",
    "    print(beacon_model.unsuccessful_signature_events)\n",
    "    "
   ]
  },
  {
   "cell_type": "code",
   "execution_count": null,
   "metadata": {
    "scrolled": true
   },
   "outputs": [],
   "source": [
    "plt.hist(active_group_size, bins=range(max(active_group_size)+1))\n",
    "plt.xlabel(\"group size\")\n",
    "plt.ylabel(\"frequency\")\n",
    "print(np.median(active_group_size))"
   ]
  },
  {
   "cell_type": "code",
   "execution_count": null,
   "metadata": {
    "scrolled": true
   },
   "outputs": [],
   "source": [
    "plt.figure(figsize = (10,5))\n",
    "plt.plot(np.linspace(1,len(active_group_size),len(active_group_size)),active_group_size)\n",
    "plt.xlabel(\"simulation time\")\n",
    "plt.ylabel(\"active groups\")"
   ]
  },
  {
   "cell_type": "code",
   "execution_count": null,
   "metadata": {
    "scrolled": true
   },
   "outputs": [],
   "source": [
    "plt.figure(figsize = (10,5))\n",
    "plt.plot(np.linspace(1,len(beacon_model.unsuccessful_signature_events),\n",
    "                     len(beacon_model.unsuccessful_signature_events)),\n",
    "                     beacon_model.unsuccessful_signature_events)\n",
    "plt.xlabel(\"simulation time\")\n",
    "plt.ylabel(\"Signature failure events\")"
   ]
  },
  {
   "cell_type": "code",
   "execution_count": null,
   "metadata": {},
   "outputs": [],
   "source": [
    "group_distr = beacon_model.datacollector.get_agent_vars_dataframe()"
   ]
  },
  {
   "cell_type": "code",
   "execution_count": null,
   "metadata": {},
   "outputs": [],
   "source": [
    "print(group_distr)"
   ]
  },
  {
   "cell_type": "code",
   "execution_count": null,
   "metadata": {},
   "outputs": [],
   "source": []
  }
 ],
 "metadata": {
  "kernelspec": {
   "display_name": "Python 3",
   "language": "python",
   "name": "python3"
  },
  "language_info": {
   "codemirror_mode": {
    "name": "ipython",
    "version": 3
   },
   "file_extension": ".py",
   "mimetype": "text/x-python",
   "name": "python",
   "nbconvert_exporter": "python",
   "pygments_lexer": "ipython3",
   "version": "3.7.1"
  }
 },
 "nbformat": 4,
 "nbformat_minor": 2
}
