{
 "cells": [
  {
   "cell_type": "markdown",
   "metadata": {},
   "source": [
    "**Master Simulation**\n",
    "\n",
    "Simulation of node states with pre processed distributions for group selection and uptime failures"
   ]
  },
  {
   "cell_type": "code",
   "execution_count": null,
   "metadata": {},
   "outputs": [],
   "source": [
    "import random\n",
    "import simpy\n",
    "import datetime\n",
    "import numpy as np\n",
    "import pandas as pd\n",
    "import simulation_components as sc\n",
    "import matplotlib.pyplot as plt"
   ]
  },
  {
   "cell_type": "markdown",
   "metadata": {},
   "source": [
    "**Initialize Variables**"
   ]
  },
  {
   "cell_type": "code",
   "execution_count": null,
   "metadata": {},
   "outputs": [],
   "source": [
    "group_size = 100 # Group size\n",
    "runs = 100 # number of runs/cycles\n",
    "total_tickets = 50000 # total virtual stakers\n",
    "nodes = 1000 # number of nodes\n",
    "tickets = [] # initializing the array that will contain the tickets\n",
    "group_members = [] # initializing the array that will contain indexes(node #) of tickets for each group\n",
    "sim_cycles = 5 # maximum node cycles\n",
    "node_failure_threshold = -0.2 * nodes # threshold below which a group is no longer viable\n",
    "active_group_threshold = 50 # min number of active groups to pick from\n",
    "node_failure_percent = [0.005, 0.01, 0.05, 0.1, 0.15, 0.2, 0.25, 0.3, 0.35] # % of nodes failing randomly"
   ]
  },
  {
   "cell_type": "code",
   "execution_count": null,
   "metadata": {},
   "outputs": [],
   "source": [
    "Group formation failure with virtual stakers \n",
    "- threshold at which a group does not form\n",
    "- this threshold is always greater than the signing threshold\n",
    "\n",
    "signing failure with vs\n",
    "- there is a threshold at which a signature is not viable"
   ]
  },
  {
   "cell_type": "markdown",
   "metadata": {},
   "source": [
    "**Simulation Inputs**"
   ]
  },
  {
   "cell_type": "code",
   "execution_count": null,
   "metadata": {},
   "outputs": [],
   "source": [
    "# Pre-processing Staker distributions\n",
    "# Linear y = m * (x + 1) since indices start from 0\n",
    "L02 = np.zeros(nodes) \n",
    "\n",
    "for i in range (0,nodes):\n",
    "    L02[i] =  10 * (i + 1) # m = 50 gives max y as 1000 which is 2% of 50000\n",
    "\n",
    "x = np.linspace(1,nodes,nodes)\n",
    "plt.subplot(2, 1, 1)\n",
    "plt.bar(x, L02)\n",
    "plt.title(\"Virtual Staker Distribution\")\n",
    "\n",
    "cdf_L02=sc.create_cdf(nodes,L02)\n",
    "plt.subplot(2, 1, 2)\n",
    "plt.bar(x, cdf_L02)\n",
    "plt.title(\"Virtual Staker Cumulative Distribution\")"
   ]
  },
  {
   "cell_type": "markdown",
   "metadata": {},
   "source": [
    "**Pre-processed tickets and groups**"
   ]
  },
  {
   "cell_type": "code",
   "execution_count": null,
   "metadata": {},
   "outputs": [],
   "source": [
    "tickets = sc.preprocess_tickets(runs, total_tickets) # generates a size(total tickets x runs) matrix of tickets by sampling the uniform distribution\n",
    "group_members = sc.preprocess_groups(tickets, runs, group_size) # generates a size (nodes x runs) matrix of group members\n"
   ]
  },
  {
   "cell_type": "code",
   "execution_count": null,
   "metadata": {},
   "outputs": [],
   "source": [
    "def group_distr(runs, nodes, group_members, cdf):\n",
    "# function to calculate group ownership distribution\n",
    "# need to add to sim components\n",
    "    total_group_distr = np.zeros(nodes)\n",
    "    max_owned = np.zeros(runs)\n",
    "    group_distr_matrix = np.zeros((runs,nodes))\n",
    "    for i in range(runs):\n",
    "        group_distr = np.zeros(nodes)\n",
    "        group_distr[1] = sum(group_members[i]<cdf[0])\n",
    "        for j in range(1,nodes):\n",
    "            group_distr[j] = sum(group_members[i]<cdf[j])-sum(group_members[i]<cdf[j-1])\n",
    "        max_owned[i] = max(group_distr)/sum(group_distr)\n",
    "        total_group_distr +=group_distr\n",
    "        group_distr_matrix[i] = group_distr #saves the group ticket distribution for each run\n",
    "    return total_group_distr, max_owned, group_distr_matrix\n",
    "\n",
    "total_group_distr, max_owned, group_distr_matrix = group_distr(runs, nodes, group_members, cdf_L02)"
   ]
  },
  {
   "cell_type": "markdown",
   "metadata": {},
   "source": [
    "**Create Nodes and Start Simulation Environment**"
   ]
  },
  {
   "cell_type": "code",
   "execution_count": null,
   "metadata": {},
   "outputs": [],
   "source": [
    "env = simpy.Environment()\n",
    "print(\"creating nodes\")\n",
    "\n",
    "node_array = [sc.Node(env, i, datetime.datetime.now(), tickets)\n",
    "            for i in range(nodes)]\n",
    "\n",
    "print(\"creating groups\")\n",
    "group_array = [sc.Group(env, i, nodes, group_distr_matrix, node_failure_threshold)\n",
    "            for i in range(runs)]\n",
    "\n",
    "failed_nodes = sc.node_failures(nodes, runs, node_failure_percent[0])\n",
    "sign_successes = []\n",
    "proc = env.process(sc.relay_entry(env, runs, group_array, node_array, sign_successes, nodes, node_failure_percent))\n",
    "\n",
    "env.run(until=proc)\n",
    "\n",
    "df = []\n",
    "for n in node_array:\n",
    "    df.append([n.id, n.number_of_entries_generated\n",
    "               , n.relay_request_time\n",
    "               , n.relay_entry_watch_time\n",
    "               , sum(n.groups_joined)])\n",
    "    \n",
    "#df = pd.DataFrame(df)\n",
    "#df.columns=[\"id\", \"number_of_entries_generated\", \"relay_request_time\", \"relay_entry_watch_time\", \"Total groups joined\"]\n",
    "#df"
   ]
  }
 ],
 "metadata": {
  "kernelspec": {
   "display_name": "Python 3",
   "language": "python",
   "name": "python3"
  },
  "language_info": {
   "codemirror_mode": {
    "name": "ipython",
    "version": 3
   },
   "file_extension": ".py",
   "mimetype": "text/x-python",
   "name": "python",
   "nbconvert_exporter": "python",
   "pygments_lexer": "ipython3",
   "version": "3.7.1"
  }
 },
 "nbformat": 4,
 "nbformat_minor": 2
}
